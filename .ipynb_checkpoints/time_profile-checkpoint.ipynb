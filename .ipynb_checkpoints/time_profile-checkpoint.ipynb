{
 "cells": [
  {
   "cell_type": "code",
   "execution_count": 1,
   "metadata": {},
   "outputs": [],
   "source": [
    "from pprint import pprint\n",
    "import sys\n",
    "import numpy as np\n",
    "import configobj\n",
    "\n",
    "import emcee\n",
    "\n",
    "from model import Eclipse, Band, LCModel, Lightcurve\n",
    "from mcmc_utils import Param\n",
    "import mcmc_utils as utils"
   ]
  },
  {
   "cell_type": "code",
   "execution_count": 2,
   "metadata": {},
   "outputs": [
    {
     "ename": "KeyError",
     "evalue": "'nburn'",
     "output_type": "error",
     "traceback": [
      "\u001b[0;31m-----------------------------------------------------\u001b[0m",
      "\u001b[0;31mKeyError\u001b[0m            Traceback (most recent call last)",
      "\u001b[0;32m<ipython-input-2-7054ef248f98>\u001b[0m in \u001b[0;36m<module>\u001b[0;34m\u001b[0m\n\u001b[1;32m      4\u001b[0m \u001b[0;34m\u001b[0m\u001b[0m\n\u001b[1;32m      5\u001b[0m \u001b[0;31m# Read in information about mcmc, neclipses, use of complex/GP etc.\u001b[0m\u001b[0;34m\u001b[0m\u001b[0;34m\u001b[0m\u001b[0m\n\u001b[0;32m----> 6\u001b[0;31m \u001b[0mnburn\u001b[0m \u001b[0;34m=\u001b[0m \u001b[0mint\u001b[0m\u001b[0;34m(\u001b[0m\u001b[0minput_dict\u001b[0m\u001b[0;34m[\u001b[0m\u001b[0;34m'nburn'\u001b[0m\u001b[0;34m]\u001b[0m\u001b[0;34m)\u001b[0m\u001b[0;34m\u001b[0m\u001b[0m\n\u001b[0m\u001b[1;32m      7\u001b[0m \u001b[0mnprod\u001b[0m \u001b[0;34m=\u001b[0m \u001b[0mint\u001b[0m\u001b[0;34m(\u001b[0m\u001b[0minput_dict\u001b[0m\u001b[0;34m[\u001b[0m\u001b[0;34m'nprod'\u001b[0m\u001b[0;34m]\u001b[0m\u001b[0;34m)\u001b[0m\u001b[0;34m\u001b[0m\u001b[0m\n\u001b[1;32m      8\u001b[0m \u001b[0mnthreads\u001b[0m \u001b[0;34m=\u001b[0m \u001b[0mint\u001b[0m\u001b[0;34m(\u001b[0m\u001b[0minput_dict\u001b[0m\u001b[0;34m[\u001b[0m\u001b[0;34m'nthread'\u001b[0m\u001b[0;34m]\u001b[0m\u001b[0;34m)\u001b[0m\u001b[0;34m\u001b[0m\u001b[0m\n",
      "\u001b[0;32m/usr/local/lib/python3.5/dist-packages/configobj.py\u001b[0m in \u001b[0;36m__getitem__\u001b[0;34m(self, key)\u001b[0m\n\u001b[1;32m    552\u001b[0m     \u001b[0;32mdef\u001b[0m \u001b[0m__getitem__\u001b[0m\u001b[0;34m(\u001b[0m\u001b[0mself\u001b[0m\u001b[0;34m,\u001b[0m \u001b[0mkey\u001b[0m\u001b[0;34m)\u001b[0m\u001b[0;34m:\u001b[0m\u001b[0;34m\u001b[0m\u001b[0m\n\u001b[1;32m    553\u001b[0m         \u001b[0;34m\"\"\"Fetch the item and do string interpolation.\"\"\"\u001b[0m\u001b[0;34m\u001b[0m\u001b[0m\n\u001b[0;32m--> 554\u001b[0;31m         \u001b[0mval\u001b[0m \u001b[0;34m=\u001b[0m \u001b[0mdict\u001b[0m\u001b[0;34m.\u001b[0m\u001b[0m__getitem__\u001b[0m\u001b[0;34m(\u001b[0m\u001b[0mself\u001b[0m\u001b[0;34m,\u001b[0m \u001b[0mkey\u001b[0m\u001b[0;34m)\u001b[0m\u001b[0;34m\u001b[0m\u001b[0m\n\u001b[0m\u001b[1;32m    555\u001b[0m         \u001b[0;32mif\u001b[0m \u001b[0mself\u001b[0m\u001b[0;34m.\u001b[0m\u001b[0mmain\u001b[0m\u001b[0;34m.\u001b[0m\u001b[0minterpolation\u001b[0m\u001b[0;34m:\u001b[0m\u001b[0;34m\u001b[0m\u001b[0m\n\u001b[1;32m    556\u001b[0m             \u001b[0;32mif\u001b[0m \u001b[0misinstance\u001b[0m\u001b[0;34m(\u001b[0m\u001b[0mval\u001b[0m\u001b[0;34m,\u001b[0m \u001b[0msix\u001b[0m\u001b[0;34m.\u001b[0m\u001b[0mstring_types\u001b[0m\u001b[0;34m)\u001b[0m\u001b[0;34m:\u001b[0m\u001b[0;34m\u001b[0m\u001b[0m\n",
      "\u001b[0;31mKeyError\u001b[0m: 'nburn'"
     ]
    }
   ],
   "source": [
    "input_file = 'mcmc_input.dat'\n",
    "\n",
    "input_dict = configobj.ConfigObj(input_file)\n",
    "\n",
    "# Read in information about mcmc, neclipses, use of complex/GP etc.\n",
    "nburn = int(input_dict['nburn'])\n",
    "nprod = int(input_dict['nprod'])\n",
    "nthreads = int(input_dict['nthread'])\n",
    "nwalkers = int(input_dict['nwalkers'])\n",
    "ntemps = int(input_dict['ntemps'])\n",
    "scatter_1 = float(input_dict['first_scatter'])\n",
    "scatter_2 = float(input_dict['second_scatter'])\n",
    "to_fit = int(input_dict['fit'])\n",
    "is_complex = bool(int(input_dict['complex']))\n",
    "use_gp = bool(int(input_dict['useGP']))\n",
    "use_pt = bool(int(input_dict['usePT']))\n",
    "corner = bool(int(input_dict['corner']))\n",
    "double_burnin = bool(int(input_dict['double_burnin']))\n",
    "comp_scat = bool(int(input_dict['comp_scat']))\n",
    "\n",
    "# neclipses no longer strictly necessary, but can be used to limit the\n",
    "# maximum number of fitted eclipses\n",
    "try:\n",
    "    neclipses = int(input_dict['neclipses'])\n",
    "except KeyError:\n",
    "    neclipses = -1\n",
    "\n",
    "if use_gp:\n",
    "    # TODO: Impliment the GP version of the Eclipses.\n",
    "    # Read in GP params using fromString function from mcmc_utils.py\n",
    "    ampin_gp = Param.fromString('ampin_gp', input_dict['ampin_gp'])\n",
    "    ampout_gp = Param.fromString('ampout_gp', input_dict['ampout_gp'])\n",
    "    tau_gp = Param.fromString('tau_gp', input_dict['tau_gp'])\n"
   ]
  },
  {
   "cell_type": "code",
   "execution_count": null,
   "metadata": {},
   "outputs": [],
   "source": []
  }
 ],
 "metadata": {
  "kernelspec": {
   "display_name": "Python 3",
   "language": "python",
   "name": "python3"
  },
  "language_info": {
   "codemirror_mode": {
    "name": "ipython",
    "version": 3
   },
   "file_extension": ".py",
   "mimetype": "text/x-python",
   "name": "python",
   "nbconvert_exporter": "python",
   "pygments_lexer": "ipython3",
   "version": "3.5.3"
  }
 },
 "nbformat": 4,
 "nbformat_minor": 2
}

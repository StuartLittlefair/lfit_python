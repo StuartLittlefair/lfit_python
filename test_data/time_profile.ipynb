{
 "cells": [
  {
   "cell_type": "code",
   "execution_count": 1,
   "metadata": {},
   "outputs": [],
   "source": [
    "from pprint import pprint\n",
    "import sys\n",
    "import numpy as np\n",
    "import configobj\n",
    "\n",
    "import emcee\n",
    "\n",
    "from model import Eclipse, Band, LCModel, Lightcurve, GPEclipse\n",
    "from mcmc_utils import Param\n",
    "import mcmc_utils as utils\n",
    "\n",
    "%matplotlib inline"
   ]
  },
  {
   "cell_type": "code",
   "execution_count": 2,
   "metadata": {},
   "outputs": [],
   "source": [
    "input_file = 'mcmc_input.dat'\n",
    "\n",
    "input_dict = configobj.ConfigObj(input_file)\n",
    "\n",
    "# Read in information about mcmc, neclipses, use of complex/GP etc.\n",
    "nburn = int(input_dict['nburn'])\n",
    "nprod = int(input_dict['nprod'])\n",
    "nthreads = int(input_dict['nthread'])\n",
    "nwalkers = int(input_dict['nwalkers'])\n",
    "ntemps = int(input_dict['ntemps'])\n",
    "scatter_1 = float(input_dict['first_scatter'])\n",
    "scatter_2 = float(input_dict['second_scatter'])\n",
    "to_fit = int(input_dict['fit'])\n",
    "is_complex = bool(int(input_dict['complex']))\n",
    "use_gp = bool(int(input_dict['useGP']))\n",
    "use_pt = bool(int(input_dict['usePT']))\n",
    "corner = bool(int(input_dict['corner']))\n",
    "double_burnin = bool(int(input_dict['double_burnin']))\n",
    "comp_scat = bool(int(input_dict['comp_scat']))\n",
    "\n",
    "# neclipses no longer strictly necessary, but can be used to limit the\n",
    "# maximum number of fitted eclipses\n",
    "try:\n",
    "    neclipses = int(input_dict['neclipses'])\n",
    "except KeyError:\n",
    "    neclipses = -1\n",
    "\n",
    "if use_gp:\n",
    "    # TODO: Impliment the GP version of the Eclipses.\n",
    "    # Read in GP params using fromString function from mcmc_utils.py\n",
    "    ampin_gp = Param.fromString('ampin_gp', input_dict['ampin_gp'])\n",
    "    ampout_gp = Param.fromString('ampout_gp', input_dict['ampout_gp'])\n",
    "    tau_gp = Param.fromString('tau_gp', input_dict['tau_gp'])\n"
   ]
  },
  {
   "cell_type": "code",
   "execution_count": 3,
   "metadata": {},
   "outputs": [],
   "source": [
    "# Start by creating the overall Model. Gather the parameters:\n",
    "core_par_names = ['rwd', 'dphi', 'q']\n",
    "\n",
    "core_pars = [Param.fromString(name, s) for name, s in input_dict.items()\n",
    "             if name in core_par_names]\n",
    "\n",
    "# and make the model object with no children\n",
    "model = LCModel('core', core_pars)"
   ]
  },
  {
   "cell_type": "code",
   "execution_count": 4,
   "metadata": {},
   "outputs": [
    {
     "name": "stdout",
     "output_type": "stream",
     "text": [
      "I found definitions of the following bands: {'KG5', 'g', 'r'}\n"
     ]
    }
   ],
   "source": [
    "# Collect the bands and their params. Add them total model.\n",
    "band_par_names = ['wdFlux', 'rsFlux']\n",
    "\n",
    "# Get a sub-dict of only band parameters\n",
    "band_dict = {}\n",
    "for key, string in input_dict.items():\n",
    "    if np.any([key.startswith(par) for par in band_par_names]):\n",
    "        band_dict[key] = string\n",
    "\n",
    "# Get a set of the bands we have in the input file\n",
    "defined_bands = [key.split('_')[-1] for key in band_dict]\n",
    "defined_bands = set(defined_bands)\n",
    "print(\"I found definitions of the following bands: {}\".format(\n",
    "    defined_bands))\n",
    "\n",
    "for band in defined_bands:\n",
    "    band_pars = []\n",
    "    for key, string in band_dict.items():\n",
    "        if key.endswith(\"_{}\".format(band)):\n",
    "            name = key.split(\"_\")[0]\n",
    "            band_pars.append(Param.fromString(name, string))\n",
    "\n",
    "    band = Band(band, band_pars, parent=model)\n"
   ]
  },
  {
   "cell_type": "code",
   "execution_count": 5,
   "metadata": {},
   "outputs": [],
   "source": [
    "class TimeEclipse(Eclipse):\n",
    "    def calc(self, plot=False):\n",
    "        '''This version of the Eclipse does not actually call lfit's calcflux, \n",
    "        rather just passes through. I want to isolate time savings that \n",
    "        don't involve that part of the code/.'''\n",
    "        \n",
    "        # Fetch the cv parameter vector, to see if it takes a while or not.\n",
    "        cvPars = self.cv_parlist\n",
    "        \n",
    "        if plot:\n",
    "            self.lc.plot(self.cv.calcFlux(\n",
    "                self.cv_parlist, self.lc.x, self.lc.w\n",
    "            ))\n",
    "        \n",
    "        # Just return a random value\n",
    "        return 100.0\n",
    "        "
   ]
  },
  {
   "cell_type": "code",
   "execution_count": 6,
   "metadata": {},
   "outputs": [],
   "source": [
    "# These are the entries to ignore.\n",
    "descriptors = ['file', 'plot', 'band']\n",
    "descriptors += band_par_names\n",
    "descriptors += core_par_names\n",
    "complex_desc = ['exp1', 'exp2', 'yaw', 'tilt']\n",
    "if not is_complex:\n",
    "    print(\"Using the complex BS model. \")\n",
    "    descriptors.extend(complex_desc)\n",
    "\n",
    "ecl_i = -1\n",
    "while True:\n",
    "    ecl_i += 1\n",
    "\n",
    "    # The user can limit the number if eclipses to fit.\n",
    "    if ecl_i == neclipses:\n",
    "        break\n",
    "\n",
    "    # Collect this eclipses' parameters.\n",
    "    ecl_exists = [key.endswith(\"_{}\".format(ecl_i)) for key in input_dict]\n",
    "    if np.any(ecl_exists):\n",
    "        # Initialise this eclipses's stuff.\n",
    "        eclipse_pars = []\n",
    "\n",
    "        # What band are we going to be looking at?\n",
    "        band = input_dict['band_{}'.format(ecl_i)]\n",
    "        # Retrieve the band object, so we can request it as a parent later\n",
    "        band = model.search_Node('Band', band)\n",
    "\n",
    "        # print(\"Eclipse {} belongs to the {}\".format(ecl_i, band.name))\n",
    "\n",
    "        # Loop through the input dict, searching for keys that have a tail\n",
    "        # matching this eclipse\n",
    "        for key, string in input_dict.items():\n",
    "            if key.endswith(\"_{}\".format(ecl_i)):\n",
    "\n",
    "                # Make sure we don't create a parameter from any of the\n",
    "                # descriptors. Check none of the forbidden keys are in this\n",
    "                test = [d in key for d in descriptors]\n",
    "                if np.any(test):\n",
    "                    continue\n",
    "\n",
    "                # Construct the name of the parameter,\n",
    "                # i.e. strip off the tail code\n",
    "                name = key.replace(\"_{}\".format(ecl_i), '')\n",
    "\n",
    "                # print(\"{} has the parameter {}, calling it {}\".format(\n",
    "                #     ecl_i, key, name))\n",
    "\n",
    "                # Make the Param object from the string, and add it to\n",
    "                # our list of pars.\n",
    "                param = Param.fromString(name, string)\n",
    "                eclipse_pars.append(param)\n",
    "\n",
    "        # Read in the datafile associated with this eclipse\n",
    "        fname = input_dict['file_{}'.format(ecl_i)]\n",
    "        eclipse_data = Lightcurve.from_calib(fname)\n",
    "\n",
    "        # Trim the eclipse down to our desired range.\n",
    "        start = float(input_dict['phi_start'])\n",
    "        end = float(input_dict['phi_end'])\n",
    "        eclipse_data.trim(start, end)\n",
    "\n",
    "        ampin = Param.fromString('ampin_gp', input_dict['ampin_gp'])\n",
    "        ampout = Param.fromString('ampout_gp', input_dict['ampout_gp'])\n",
    "        tau = Param.fromString('tau_gp', input_dict['tau_gp'])\n",
    "        \n",
    "        # Construct the eclipse object\n",
    "        GPEclipse(ampin, ampout, tau, eclipse_data, is_complex, str(ecl_i), eclipse_pars,\n",
    "                parent=band)\n",
    "\n",
    "        # print(\"\\n\\n\")\n",
    "    else:\n",
    "        break\n"
   ]
  },
  {
   "cell_type": "code",
   "execution_count": 7,
   "metadata": {
    "scrolled": false
   },
   "outputs": [
    {
     "name": "stdout",
     "output_type": "stream",
     "text": [
      "Fitting 10 eclipses.\n",
      "Figure will be (28.0, 5.0)\n"
     ]
    },
    {
     "data": {
      "image/png": "[encoded data removed]",
      "text/plain": [
       "<Figure size 2016x360 with 1 Axes>"
      ]
     },
     "metadata": {},
     "output_type": "display_data"
    }
   ],
   "source": [
    "neclipses = ecl_i\n",
    "print(\"Fitting {} eclipses.\".format(neclipses))\n",
    "model.draw()"
   ]
  },
  {
   "cell_type": "code",
   "execution_count": 8,
   "metadata": {
    "scrolled": false
   },
   "outputs": [
    {
     "name": "stdout",
     "output_type": "stream",
     "text": [
      "8210.35858448112\n",
      "544 ms ± 115 ms per loop (mean ± std. dev. of 7 runs, 1 loop each)\n"
     ]
    }
   ],
   "source": [
    "print(model.chisq())\n",
    "%timeit model.chisq(False)"
   ]
  },
  {
   "cell_type": "code",
   "execution_count": null,
   "metadata": {},
   "outputs": [],
   "source": []
  }
 ],
 "metadata": {
  "kernelspec": {
   "display_name": "Python 3",
   "language": "python",
   "name": "python3"
  },
  "language_info": {
   "codemirror_mode": {
    "name": "ipython",
    "version": 3
   },
   "file_extension": ".py",
   "mimetype": "text/x-python",
   "name": "python",
   "nbconvert_exporter": "python",
   "pygments_lexer": "ipython3",
   "version": "3.5.3"
  }
 },
 "nbformat": 4,
 "nbformat_minor": 2
}
